{
  "nbformat": 4,
  "nbformat_minor": 5,
  "metadata": {
    "kernelspec": {
      "display_name": "Python 3",
      "language": "python",
      "name": "python3"
    },
    "language_info": {
      "codemirror_mode": {
        "name": "ipython",
        "version": 3
      },
      "file_extension": ".py",
      "mimetype": "text/x-python",
      "name": "python",
      "nbconvert_exporter": "python",
      "pygments_lexer": "ipython3",
      "version": "3.8.8"
    },
    "colab": {
      "name": "Data Visualization",
      "provenance": [],
      "collapsed_sections": []
    }
  },
  "cells": [
    {
      "cell_type": "markdown",
      "metadata": {
        "id": "b68aedd0"
      },
      "source": [
        "# **Using XGBoost, SMOTE, and threshold moving**"
      ],
      "id": "b68aedd0"
    },
    {
      "cell_type": "code",
      "metadata": {
        "id": "1ac02f42"
      },
      "source": [
        "import pandas as pd\n",
        "import matplotlib.pyplot as plt\n",
        "import numpy as np\n",
        "from datetime import datetime"
      ],
      "id": "1ac02f42",
      "execution_count": null,
      "outputs": []
    },
    {
      "cell_type": "markdown",
      "metadata": {
        "id": "twQLyXjmPbpl"
      },
      "source": [
        "**Data Visualization**"
      ],
      "id": "twQLyXjmPbpl"
    },
    {
      "cell_type": "code",
      "metadata": {
        "id": "dc5561e4",
        "outputId": "880f2e3b-e18b-4ed9-d249-91fc8b72297e"
      },
      "source": [
        "dataDF = pd.read_csv(R'C:\\Users\\Richi Kothari\\Downloads\\archive\\creditcard.csv')\n",
        "dataDF.head()"
      ],
      "id": "dc5561e4",
      "execution_count": null,
      "outputs": [
        {
          "output_type": "execute_result",
          "data": {
            "text/html": [
              "<div>\n",
              "<style scoped>\n",
              "    .dataframe tbody tr th:only-of-type {\n",
              "        vertical-align: middle;\n",
              "    }\n",
              "\n",
              "    .dataframe tbody tr th {\n",
              "        vertical-align: top;\n",
              "    }\n",
              "\n",
              "    .dataframe thead th {\n",
              "        text-align: right;\n",
              "    }\n",
              "</style>\n",
              "<table border=\"1\" class=\"dataframe\">\n",
              "  <thead>\n",
              "    <tr style=\"text-align: right;\">\n",
              "      <th></th>\n",
              "      <th>Time</th>\n",
              "      <th>V1</th>\n",
              "      <th>V2</th>\n",
              "      <th>V3</th>\n",
              "      <th>V4</th>\n",
              "      <th>V5</th>\n",
              "      <th>V6</th>\n",
              "      <th>V7</th>\n",
              "      <th>V8</th>\n",
              "      <th>V9</th>\n",
              "      <th>...</th>\n",
              "      <th>V21</th>\n",
              "      <th>V22</th>\n",
              "      <th>V23</th>\n",
              "      <th>V24</th>\n",
              "      <th>V25</th>\n",
              "      <th>V26</th>\n",
              "      <th>V27</th>\n",
              "      <th>V28</th>\n",
              "      <th>Amount</th>\n",
              "      <th>Class</th>\n",
              "    </tr>\n",
              "  </thead>\n",
              "  <tbody>\n",
              "    <tr>\n",
              "      <th>0</th>\n",
              "      <td>0.0</td>\n",
              "      <td>-1.359807</td>\n",
              "      <td>-0.072781</td>\n",
              "      <td>2.536347</td>\n",
              "      <td>1.378155</td>\n",
              "      <td>-0.338321</td>\n",
              "      <td>0.462388</td>\n",
              "      <td>0.239599</td>\n",
              "      <td>0.098698</td>\n",
              "      <td>0.363787</td>\n",
              "      <td>...</td>\n",
              "      <td>-0.018307</td>\n",
              "      <td>0.277838</td>\n",
              "      <td>-0.110474</td>\n",
              "      <td>0.066928</td>\n",
              "      <td>0.128539</td>\n",
              "      <td>-0.189115</td>\n",
              "      <td>0.133558</td>\n",
              "      <td>-0.021053</td>\n",
              "      <td>149.62</td>\n",
              "      <td>0</td>\n",
              "    </tr>\n",
              "    <tr>\n",
              "      <th>1</th>\n",
              "      <td>0.0</td>\n",
              "      <td>1.191857</td>\n",
              "      <td>0.266151</td>\n",
              "      <td>0.166480</td>\n",
              "      <td>0.448154</td>\n",
              "      <td>0.060018</td>\n",
              "      <td>-0.082361</td>\n",
              "      <td>-0.078803</td>\n",
              "      <td>0.085102</td>\n",
              "      <td>-0.255425</td>\n",
              "      <td>...</td>\n",
              "      <td>-0.225775</td>\n",
              "      <td>-0.638672</td>\n",
              "      <td>0.101288</td>\n",
              "      <td>-0.339846</td>\n",
              "      <td>0.167170</td>\n",
              "      <td>0.125895</td>\n",
              "      <td>-0.008983</td>\n",
              "      <td>0.014724</td>\n",
              "      <td>2.69</td>\n",
              "      <td>0</td>\n",
              "    </tr>\n",
              "    <tr>\n",
              "      <th>2</th>\n",
              "      <td>1.0</td>\n",
              "      <td>-1.358354</td>\n",
              "      <td>-1.340163</td>\n",
              "      <td>1.773209</td>\n",
              "      <td>0.379780</td>\n",
              "      <td>-0.503198</td>\n",
              "      <td>1.800499</td>\n",
              "      <td>0.791461</td>\n",
              "      <td>0.247676</td>\n",
              "      <td>-1.514654</td>\n",
              "      <td>...</td>\n",
              "      <td>0.247998</td>\n",
              "      <td>0.771679</td>\n",
              "      <td>0.909412</td>\n",
              "      <td>-0.689281</td>\n",
              "      <td>-0.327642</td>\n",
              "      <td>-0.139097</td>\n",
              "      <td>-0.055353</td>\n",
              "      <td>-0.059752</td>\n",
              "      <td>378.66</td>\n",
              "      <td>0</td>\n",
              "    </tr>\n",
              "    <tr>\n",
              "      <th>3</th>\n",
              "      <td>1.0</td>\n",
              "      <td>-0.966272</td>\n",
              "      <td>-0.185226</td>\n",
              "      <td>1.792993</td>\n",
              "      <td>-0.863291</td>\n",
              "      <td>-0.010309</td>\n",
              "      <td>1.247203</td>\n",
              "      <td>0.237609</td>\n",
              "      <td>0.377436</td>\n",
              "      <td>-1.387024</td>\n",
              "      <td>...</td>\n",
              "      <td>-0.108300</td>\n",
              "      <td>0.005274</td>\n",
              "      <td>-0.190321</td>\n",
              "      <td>-1.175575</td>\n",
              "      <td>0.647376</td>\n",
              "      <td>-0.221929</td>\n",
              "      <td>0.062723</td>\n",
              "      <td>0.061458</td>\n",
              "      <td>123.50</td>\n",
              "      <td>0</td>\n",
              "    </tr>\n",
              "    <tr>\n",
              "      <th>4</th>\n",
              "      <td>2.0</td>\n",
              "      <td>-1.158233</td>\n",
              "      <td>0.877737</td>\n",
              "      <td>1.548718</td>\n",
              "      <td>0.403034</td>\n",
              "      <td>-0.407193</td>\n",
              "      <td>0.095921</td>\n",
              "      <td>0.592941</td>\n",
              "      <td>-0.270533</td>\n",
              "      <td>0.817739</td>\n",
              "      <td>...</td>\n",
              "      <td>-0.009431</td>\n",
              "      <td>0.798278</td>\n",
              "      <td>-0.137458</td>\n",
              "      <td>0.141267</td>\n",
              "      <td>-0.206010</td>\n",
              "      <td>0.502292</td>\n",
              "      <td>0.219422</td>\n",
              "      <td>0.215153</td>\n",
              "      <td>69.99</td>\n",
              "      <td>0</td>\n",
              "    </tr>\n",
              "  </tbody>\n",
              "</table>\n",
              "<p>5 rows × 31 columns</p>\n",
              "</div>"
            ],
            "text/plain": [
              "   Time        V1        V2        V3        V4        V5        V6        V7  \\\n",
              "0   0.0 -1.359807 -0.072781  2.536347  1.378155 -0.338321  0.462388  0.239599   \n",
              "1   0.0  1.191857  0.266151  0.166480  0.448154  0.060018 -0.082361 -0.078803   \n",
              "2   1.0 -1.358354 -1.340163  1.773209  0.379780 -0.503198  1.800499  0.791461   \n",
              "3   1.0 -0.966272 -0.185226  1.792993 -0.863291 -0.010309  1.247203  0.237609   \n",
              "4   2.0 -1.158233  0.877737  1.548718  0.403034 -0.407193  0.095921  0.592941   \n",
              "\n",
              "         V8        V9  ...       V21       V22       V23       V24       V25  \\\n",
              "0  0.098698  0.363787  ... -0.018307  0.277838 -0.110474  0.066928  0.128539   \n",
              "1  0.085102 -0.255425  ... -0.225775 -0.638672  0.101288 -0.339846  0.167170   \n",
              "2  0.247676 -1.514654  ...  0.247998  0.771679  0.909412 -0.689281 -0.327642   \n",
              "3  0.377436 -1.387024  ... -0.108300  0.005274 -0.190321 -1.175575  0.647376   \n",
              "4 -0.270533  0.817739  ... -0.009431  0.798278 -0.137458  0.141267 -0.206010   \n",
              "\n",
              "        V26       V27       V28  Amount  Class  \n",
              "0 -0.189115  0.133558 -0.021053  149.62      0  \n",
              "1  0.125895 -0.008983  0.014724    2.69      0  \n",
              "2 -0.139097 -0.055353 -0.059752  378.66      0  \n",
              "3 -0.221929  0.062723  0.061458  123.50      0  \n",
              "4  0.502292  0.219422  0.215153   69.99      0  \n",
              "\n",
              "[5 rows x 31 columns]"
            ]
          },
          "metadata": {
            "tags": []
          },
          "execution_count": 16
        }
      ]
    },
    {
      "cell_type": "markdown",
      "metadata": {
        "id": "1Lp8hQWzSf0s"
      },
      "source": [
        "Plotting the distribution of class"
      ],
      "id": "1Lp8hQWzSf0s"
    },
    {
      "cell_type": "code",
      "metadata": {
        "id": "3caae1a3",
        "outputId": "02a74428-5720-4cf2-e2bd-9ff7a29530fa"
      },
      "source": [
        "value_counts = dataDF[\"Class\"].value_counts()\n",
        "value_counts.plot(kind=\"bar\", title=\"Class distribution of the target variable\")"
      ],
      "id": "3caae1a3",
      "execution_count": null,
      "outputs": [
        {
          "output_type": "execute_result",
          "data": {
            "text/plain": [
              "<AxesSubplot:title={'center':'Class distribution of the target variable'}>"
            ]
          },
          "metadata": {
            "tags": []
          },
          "execution_count": 19
        },
        {
          "output_type": "display_data",
          "data": {
            "image/png": "[encoded data removed]",
            "text/plain": [
              "<Figure size 432x288 with 1 Axes>"
            ]
          },
          "metadata": {
            "tags": [],
            "needs_background": "light"
          }
        }
      ]
    },
    {
      "cell_type": "markdown",
      "metadata": {
        "id": "sW_woiuHSpnO"
      },
      "source": [
        "Basic descriptive statistics for all attributes"
      ],
      "id": "sW_woiuHSpnO"
    },
    {
      "cell_type": "code",
      "metadata": {
        "id": "575929ed",
        "outputId": "f5438bdf-806f-4c1d-e193-97b7a79f2f7f"
      },
      "source": [
        "pd.set_option(\"display.float_format\", lambda x: \"%.3f\" % x)\n",
        "dataDF.describe()"
      ],
      "id": "575929ed",
      "execution_count": null,
      "outputs": [
        {
          "output_type": "execute_result",
          "data": {
            "text/html": [
              "<div>\n",
              "<style scoped>\n",
              "    .dataframe tbody tr th:only-of-type {\n",
              "        vertical-align: middle;\n",
              "    }\n",
              "\n",
              "    .dataframe tbody tr th {\n",
              "        vertical-align: top;\n",
              "    }\n",
              "\n",
              "    .dataframe thead th {\n",
              "        text-align: right;\n",
              "    }\n",
              "</style>\n",
              "<table border=\"1\" class=\"dataframe\">\n",
              "  <thead>\n",
              "    <tr style=\"text-align: right;\">\n",
              "      <th></th>\n",
              "      <th>Time</th>\n",
              "      <th>V1</th>\n",
              "      <th>V2</th>\n",
              "      <th>V3</th>\n",
              "      <th>V4</th>\n",
              "      <th>V5</th>\n",
              "      <th>V6</th>\n",
              "      <th>V7</th>\n",
              "      <th>V8</th>\n",
              "      <th>V9</th>\n",
              "      <th>...</th>\n",
              "      <th>V21</th>\n",
              "      <th>V22</th>\n",
              "      <th>V23</th>\n",
              "      <th>V24</th>\n",
              "      <th>V25</th>\n",
              "      <th>V26</th>\n",
              "      <th>V27</th>\n",
              "      <th>V28</th>\n",
              "      <th>Amount</th>\n",
              "      <th>Class</th>\n",
              "    </tr>\n",
              "  </thead>\n",
              "  <tbody>\n",
              "    <tr>\n",
              "      <th>count</th>\n",
              "      <td>284807.000</td>\n",
              "      <td>284807.000</td>\n",
              "      <td>284807.000</td>\n",
              "      <td>284807.000</td>\n",
              "      <td>284807.000</td>\n",
              "      <td>284807.000</td>\n",
              "      <td>284807.000</td>\n",
              "      <td>284807.000</td>\n",
              "      <td>284807.000</td>\n",
              "      <td>284807.000</td>\n",
              "      <td>...</td>\n",
              "      <td>284807.000</td>\n",
              "      <td>284807.000</td>\n",
              "      <td>284807.000</td>\n",
              "      <td>284807.000</td>\n",
              "      <td>284807.000</td>\n",
              "      <td>284807.000</td>\n",
              "      <td>284807.000</td>\n",
              "      <td>284807.000</td>\n",
              "      <td>284807.000</td>\n",
              "      <td>284807.000</td>\n",
              "    </tr>\n",
              "    <tr>\n",
              "      <th>mean</th>\n",
              "      <td>94813.860</td>\n",
              "      <td>0.000</td>\n",
              "      <td>0.000</td>\n",
              "      <td>-0.000</td>\n",
              "      <td>0.000</td>\n",
              "      <td>-0.000</td>\n",
              "      <td>0.000</td>\n",
              "      <td>-0.000</td>\n",
              "      <td>-0.000</td>\n",
              "      <td>-0.000</td>\n",
              "      <td>...</td>\n",
              "      <td>0.000</td>\n",
              "      <td>0.000</td>\n",
              "      <td>0.000</td>\n",
              "      <td>0.000</td>\n",
              "      <td>0.000</td>\n",
              "      <td>0.000</td>\n",
              "      <td>-0.000</td>\n",
              "      <td>-0.000</td>\n",
              "      <td>88.350</td>\n",
              "      <td>0.002</td>\n",
              "    </tr>\n",
              "    <tr>\n",
              "      <th>std</th>\n",
              "      <td>47488.146</td>\n",
              "      <td>1.959</td>\n",
              "      <td>1.651</td>\n",
              "      <td>1.516</td>\n",
              "      <td>1.416</td>\n",
              "      <td>1.380</td>\n",
              "      <td>1.332</td>\n",
              "      <td>1.237</td>\n",
              "      <td>1.194</td>\n",
              "      <td>1.099</td>\n",
              "      <td>...</td>\n",
              "      <td>0.735</td>\n",
              "      <td>0.726</td>\n",
              "      <td>0.624</td>\n",
              "      <td>0.606</td>\n",
              "      <td>0.521</td>\n",
              "      <td>0.482</td>\n",
              "      <td>0.404</td>\n",
              "      <td>0.330</td>\n",
              "      <td>250.120</td>\n",
              "      <td>0.042</td>\n",
              "    </tr>\n",
              "    <tr>\n",
              "      <th>min</th>\n",
              "      <td>0.000</td>\n",
              "      <td>-56.408</td>\n",
              "      <td>-72.716</td>\n",
              "      <td>-48.326</td>\n",
              "      <td>-5.683</td>\n",
              "      <td>-113.743</td>\n",
              "      <td>-26.161</td>\n",
              "      <td>-43.557</td>\n",
              "      <td>-73.217</td>\n",
              "      <td>-13.434</td>\n",
              "      <td>...</td>\n",
              "      <td>-34.830</td>\n",
              "      <td>-10.933</td>\n",
              "      <td>-44.808</td>\n",
              "      <td>-2.837</td>\n",
              "      <td>-10.295</td>\n",
              "      <td>-2.605</td>\n",
              "      <td>-22.566</td>\n",
              "      <td>-15.430</td>\n",
              "      <td>0.000</td>\n",
              "      <td>0.000</td>\n",
              "    </tr>\n",
              "    <tr>\n",
              "      <th>25%</th>\n",
              "      <td>54201.500</td>\n",
              "      <td>-0.920</td>\n",
              "      <td>-0.599</td>\n",
              "      <td>-0.890</td>\n",
              "      <td>-0.849</td>\n",
              "      <td>-0.692</td>\n",
              "      <td>-0.768</td>\n",
              "      <td>-0.554</td>\n",
              "      <td>-0.209</td>\n",
              "      <td>-0.643</td>\n",
              "      <td>...</td>\n",
              "      <td>-0.228</td>\n",
              "      <td>-0.542</td>\n",
              "      <td>-0.162</td>\n",
              "      <td>-0.355</td>\n",
              "      <td>-0.317</td>\n",
              "      <td>-0.327</td>\n",
              "      <td>-0.071</td>\n",
              "      <td>-0.053</td>\n",
              "      <td>5.600</td>\n",
              "      <td>0.000</td>\n",
              "    </tr>\n",
              "    <tr>\n",
              "      <th>50%</th>\n",
              "      <td>84692.000</td>\n",
              "      <td>0.018</td>\n",
              "      <td>0.065</td>\n",
              "      <td>0.180</td>\n",
              "      <td>-0.020</td>\n",
              "      <td>-0.054</td>\n",
              "      <td>-0.274</td>\n",
              "      <td>0.040</td>\n",
              "      <td>0.022</td>\n",
              "      <td>-0.051</td>\n",
              "      <td>...</td>\n",
              "      <td>-0.029</td>\n",
              "      <td>0.007</td>\n",
              "      <td>-0.011</td>\n",
              "      <td>0.041</td>\n",
              "      <td>0.017</td>\n",
              "      <td>-0.052</td>\n",
              "      <td>0.001</td>\n",
              "      <td>0.011</td>\n",
              "      <td>22.000</td>\n",
              "      <td>0.000</td>\n",
              "    </tr>\n",
              "    <tr>\n",
              "      <th>75%</th>\n",
              "      <td>139320.500</td>\n",
              "      <td>1.316</td>\n",
              "      <td>0.804</td>\n",
              "      <td>1.027</td>\n",
              "      <td>0.743</td>\n",
              "      <td>0.612</td>\n",
              "      <td>0.399</td>\n",
              "      <td>0.570</td>\n",
              "      <td>0.327</td>\n",
              "      <td>0.597</td>\n",
              "      <td>...</td>\n",
              "      <td>0.186</td>\n",
              "      <td>0.529</td>\n",
              "      <td>0.148</td>\n",
              "      <td>0.440</td>\n",
              "      <td>0.351</td>\n",
              "      <td>0.241</td>\n",
              "      <td>0.091</td>\n",
              "      <td>0.078</td>\n",
              "      <td>77.165</td>\n",
              "      <td>0.000</td>\n",
              "    </tr>\n",
              "    <tr>\n",
              "      <th>max</th>\n",
              "      <td>172792.000</td>\n",
              "      <td>2.455</td>\n",
              "      <td>22.058</td>\n",
              "      <td>9.383</td>\n",
              "      <td>16.875</td>\n",
              "      <td>34.802</td>\n",
              "      <td>73.302</td>\n",
              "      <td>120.589</td>\n",
              "      <td>20.007</td>\n",
              "      <td>15.595</td>\n",
              "      <td>...</td>\n",
              "      <td>27.203</td>\n",
              "      <td>10.503</td>\n",
              "      <td>22.528</td>\n",
              "      <td>4.585</td>\n",
              "      <td>7.520</td>\n",
              "      <td>3.517</td>\n",
              "      <td>31.612</td>\n",
              "      <td>33.848</td>\n",
              "      <td>25691.160</td>\n",
              "      <td>1.000</td>\n",
              "    </tr>\n",
              "  </tbody>\n",
              "</table>\n",
              "<p>8 rows × 31 columns</p>\n",
              "</div>"
            ],
            "text/plain": [
              "            Time         V1         V2         V3         V4         V5  \\\n",
              "count 284807.000 284807.000 284807.000 284807.000 284807.000 284807.000   \n",
              "mean   94813.860      0.000      0.000     -0.000      0.000     -0.000   \n",
              "std    47488.146      1.959      1.651      1.516      1.416      1.380   \n",
              "min        0.000    -56.408    -72.716    -48.326     -5.683   -113.743   \n",
              "25%    54201.500     -0.920     -0.599     -0.890     -0.849     -0.692   \n",
              "50%    84692.000      0.018      0.065      0.180     -0.020     -0.054   \n",
              "75%   139320.500      1.316      0.804      1.027      0.743      0.612   \n",
              "max   172792.000      2.455     22.058      9.383     16.875     34.802   \n",
              "\n",
              "              V6         V7         V8         V9  ...        V21        V22  \\\n",
              "count 284807.000 284807.000 284807.000 284807.000  ... 284807.000 284807.000   \n",
              "mean       0.000     -0.000     -0.000     -0.000  ...      0.000      0.000   \n",
              "std        1.332      1.237      1.194      1.099  ...      0.735      0.726   \n",
              "min      -26.161    -43.557    -73.217    -13.434  ...    -34.830    -10.933   \n",
              "25%       -0.768     -0.554     -0.209     -0.643  ...     -0.228     -0.542   \n",
              "50%       -0.274      0.040      0.022     -0.051  ...     -0.029      0.007   \n",
              "75%        0.399      0.570      0.327      0.597  ...      0.186      0.529   \n",
              "max       73.302    120.589     20.007     15.595  ...     27.203     10.503   \n",
              "\n",
              "             V23        V24        V25        V26        V27        V28  \\\n",
              "count 284807.000 284807.000 284807.000 284807.000 284807.000 284807.000   \n",
              "mean       0.000      0.000      0.000      0.000     -0.000     -0.000   \n",
              "std        0.624      0.606      0.521      0.482      0.404      0.330   \n",
              "min      -44.808     -2.837    -10.295     -2.605    -22.566    -15.430   \n",
              "25%       -0.162     -0.355     -0.317     -0.327     -0.071     -0.053   \n",
              "50%       -0.011      0.041      0.017     -0.052      0.001      0.011   \n",
              "75%        0.148      0.440      0.351      0.241      0.091      0.078   \n",
              "max       22.528      4.585      7.520      3.517     31.612     33.848   \n",
              "\n",
              "          Amount      Class  \n",
              "count 284807.000 284807.000  \n",
              "mean      88.350      0.002  \n",
              "std      250.120      0.042  \n",
              "min        0.000      0.000  \n",
              "25%        5.600      0.000  \n",
              "50%       22.000      0.000  \n",
              "75%       77.165      0.000  \n",
              "max    25691.160      1.000  \n",
              "\n",
              "[8 rows x 31 columns]"
            ]
          },
          "metadata": {
            "tags": []
          },
          "execution_count": 20
        }
      ]
    },
    {
      "cell_type": "markdown",
      "metadata": {
        "id": "lpL4AFYeSv6C"
      },
      "source": [
        "Plotting the histograms for all input attributes to make sure nothing unusual stands out.\n"
      ],
      "id": "lpL4AFYeSv6C"
    },
    {
      "cell_type": "code",
      "metadata": {
        "id": "35ace1e7",
        "outputId": "e6620bab-00a0-47d2-8dca-537a852d0c71"
      },
      "source": [
        "ax = dataDF.drop(\"Class\", axis=1).hist(figsize=(10,12),bins=100)\n",
        "# We hide the axes' labels to make the plot neater and more compact \n",
        "for axis in ax.flatten():\n",
        "    axis.set_xticklabels([])\n",
        "    axis.set_yticklabels([])"
      ],
      "id": "35ace1e7",
      "execution_count": null,
      "outputs": [
        {
          "output_type": "display_data",
          "data": {
            "image/png": "[encoded data removed]",
            "text/plain": [
              "<Figure size 720x864 with 30 Axes>"
            ]
          },
          "metadata": {
            "tags": [],
            "needs_background": "light"
          }
        }
      ]
    },
    {
      "cell_type": "markdown",
      "metadata": {
        "id": "vGChlEqKS1xe"
      },
      "source": [
        "The time is given in the form of timestamp. \n",
        "So, to find correlation between type of transaction and time we are converting timestamp to datetime object and plotting it via histograms."
      ],
      "id": "vGChlEqKS1xe"
    },
    {
      "cell_type": "code",
      "metadata": {
        "id": "40d62a3e",
        "outputId": "92edfe65-da5b-4c20-fc9b-39826e71213b"
      },
      "source": [
        "dataDF[\"Hour\"] = dataDF[\"Time\"].apply(datetime.fromtimestamp).dt.hour\n",
        "fig, ax = plt.subplots(2, figsize=(10,7))\n",
        "for a in ax:\n",
        "    a.set_xticks(range(24))\n",
        "dataDF.loc[dataDF[\"Class\"] == 0][\"Hour\"].hist(bins=np.arange(24)-0.5, ax=ax[0], grid=False)\n",
        "dataDF.loc[dataDF[\"Class\"] == 1][\"Hour\"].hist(bins=np.arange(24)-0.5, ax=ax[1], grid=False)\n",
        "ax[0].title.set_text(\"Legitimate Transactions\")\n",
        "ax[1].title.set_text(\"Fraudulent Transactions\")\n",
        "plt.subplots_adjust(hspace=0.3)"
      ],
      "id": "40d62a3e",
      "execution_count": null,
      "outputs": [
        {
          "output_type": "display_data",
          "data": {
            "image/png": "[encoded data removed]",
            "text/plain": [
              "<Figure size 720x504 with 2 Axes>"
            ]
          },
          "metadata": {
            "tags": [],
            "needs_background": "light"
          }
        }
      ]
    },
    {
      "cell_type": "markdown",
      "metadata": {
        "id": "RsM5O3lGU5UI"
      },
      "source": [
        "Function to compare the basic statistics for a single attribute across the fraud/no-fraud classes."
      ],
      "id": "RsM5O3lGU5UI"
    },
    {
      "cell_type": "code",
      "metadata": {
        "id": "a7da4cbe",
        "outputId": "f78be7ac-4797-4ead-fe0e-3df34bc2ae42"
      },
      "source": [
        "def compare_leg_fraud(attribute):\n",
        "    leg_trS = dataDF.loc[dataDF[\"Class\"] == 0][attribute].rename(\"Legitimate\").describe()\n",
        "    frd_trS = dataDF.loc[dataDF[\"Class\"] == 1][attribute].rename(\"Fraudulent\").describe()\n",
        "    tr_hourDF = leg_trS.to_frame().join(frd_trS.to_frame())\n",
        "    return tr_hourDF\n",
        "     \n",
        "compare_leg_fraud(\"Hour\")"
      ],
      "id": "a7da4cbe",
      "execution_count": null,
      "outputs": [
        {
          "output_type": "execute_result",
          "data": {
            "text/html": [
              "<div>\n",
              "<style scoped>\n",
              "    .dataframe tbody tr th:only-of-type {\n",
              "        vertical-align: middle;\n",
              "    }\n",
              "\n",
              "    .dataframe tbody tr th {\n",
              "        vertical-align: top;\n",
              "    }\n",
              "\n",
              "    .dataframe thead th {\n",
              "        text-align: right;\n",
              "    }\n",
              "</style>\n",
              "<table border=\"1\" class=\"dataframe\">\n",
              "  <thead>\n",
              "    <tr style=\"text-align: right;\">\n",
              "      <th></th>\n",
              "      <th>Legitimate</th>\n",
              "      <th>Fraudulent</th>\n",
              "    </tr>\n",
              "  </thead>\n",
              "  <tbody>\n",
              "    <tr>\n",
              "      <th>count</th>\n",
              "      <td>284315.000</td>\n",
              "      <td>492.000</td>\n",
              "    </tr>\n",
              "    <tr>\n",
              "      <th>mean</th>\n",
              "      <td>12.349</td>\n",
              "      <td>12.136</td>\n",
              "    </tr>\n",
              "    <tr>\n",
              "      <th>std</th>\n",
              "      <td>7.805</td>\n",
              "      <td>7.227</td>\n",
              "    </tr>\n",
              "    <tr>\n",
              "      <th>min</th>\n",
              "      <td>0.000</td>\n",
              "      <td>0.000</td>\n",
              "    </tr>\n",
              "    <tr>\n",
              "      <th>25%</th>\n",
              "      <td>4.000</td>\n",
              "      <td>7.000</td>\n",
              "    </tr>\n",
              "    <tr>\n",
              "      <th>50%</th>\n",
              "      <td>15.000</td>\n",
              "      <td>12.500</td>\n",
              "    </tr>\n",
              "    <tr>\n",
              "      <th>75%</th>\n",
              "      <td>19.000</td>\n",
              "      <td>18.000</td>\n",
              "    </tr>\n",
              "    <tr>\n",
              "      <th>max</th>\n",
              "      <td>23.000</td>\n",
              "      <td>23.000</td>\n",
              "    </tr>\n",
              "  </tbody>\n",
              "</table>\n",
              "</div>"
            ],
            "text/plain": [
              "       Legitimate  Fraudulent\n",
              "count  284315.000     492.000\n",
              "mean       12.349      12.136\n",
              "std         7.805       7.227\n",
              "min         0.000       0.000\n",
              "25%         4.000       7.000\n",
              "50%        15.000      12.500\n",
              "75%        19.000      18.000\n",
              "max        23.000      23.000"
            ]
          },
          "metadata": {
            "tags": []
          },
          "execution_count": 30
        }
      ]
    },
    {
      "cell_type": "markdown",
      "metadata": {
        "id": "3aqZez_RVGil"
      },
      "source": [
        "Distribution of fraudulent vs legitimate transactions against amount via histograms "
      ],
      "id": "3aqZez_RVGil"
    },
    {
      "cell_type": "code",
      "metadata": {
        "id": "2a3f0952",
        "outputId": "465dd556-7783-46c3-96f2-04ba4a5f5fb3"
      },
      "source": [
        "fig, ax = plt.subplots(2, figsize=(9,7))\n",
        "dataDF.loc[dataDF[\"Class\"] == 0][\"Amount\"].hist(bins=30, ax=ax[0])\n",
        "dataDF.loc[dataDF[\"Class\"] == 1][\"Amount\"].hist(bins=30, ax=ax[1])\n",
        "ax[0].title.set_text(\"Legitimate Transactions\")\n",
        "ax[1].title.set_text(\"Fraudulent Transactions\")\n",
        "plt.subplots_adjust(hspace=0.3)"
      ],
      "id": "2a3f0952",
      "execution_count": null,
      "outputs": [
        {
          "output_type": "display_data",
          "data": {
            "image/png": "[encoded data removed]",
            "text/plain": [
              "<Figure size 648x504 with 2 Axes>"
            ]
          },
          "metadata": {
            "tags": [],
            "needs_background": "light"
          }
        }
      ]
    },
    {
      "cell_type": "markdown",
      "metadata": {
        "id": "IN8PF0JlVc5b"
      },
      "source": [
        "Basic statistics for the Amount attribute."
      ],
      "id": "IN8PF0JlVc5b"
    },
    {
      "cell_type": "code",
      "metadata": {
        "id": "99dff251",
        "outputId": "620c1125-fda0-4233-ada9-b7dd49db1e8c"
      },
      "source": [
        "compare_leg_fraud(\"Amount\")"
      ],
      "id": "99dff251",
      "execution_count": null,
      "outputs": [
        {
          "output_type": "execute_result",
          "data": {
            "text/html": [
              "<div>\n",
              "<style scoped>\n",
              "    .dataframe tbody tr th:only-of-type {\n",
              "        vertical-align: middle;\n",
              "    }\n",
              "\n",
              "    .dataframe tbody tr th {\n",
              "        vertical-align: top;\n",
              "    }\n",
              "\n",
              "    .dataframe thead th {\n",
              "        text-align: right;\n",
              "    }\n",
              "</style>\n",
              "<table border=\"1\" class=\"dataframe\">\n",
              "  <thead>\n",
              "    <tr style=\"text-align: right;\">\n",
              "      <th></th>\n",
              "      <th>Legitimate</th>\n",
              "      <th>Fraudulent</th>\n",
              "    </tr>\n",
              "  </thead>\n",
              "  <tbody>\n",
              "    <tr>\n",
              "      <th>count</th>\n",
              "      <td>284315.000</td>\n",
              "      <td>492.000</td>\n",
              "    </tr>\n",
              "    <tr>\n",
              "      <th>mean</th>\n",
              "      <td>88.291</td>\n",
              "      <td>122.211</td>\n",
              "    </tr>\n",
              "    <tr>\n",
              "      <th>std</th>\n",
              "      <td>250.105</td>\n",
              "      <td>256.683</td>\n",
              "    </tr>\n",
              "    <tr>\n",
              "      <th>min</th>\n",
              "      <td>0.000</td>\n",
              "      <td>0.000</td>\n",
              "    </tr>\n",
              "    <tr>\n",
              "      <th>25%</th>\n",
              "      <td>5.650</td>\n",
              "      <td>1.000</td>\n",
              "    </tr>\n",
              "    <tr>\n",
              "      <th>50%</th>\n",
              "      <td>22.000</td>\n",
              "      <td>9.250</td>\n",
              "    </tr>\n",
              "    <tr>\n",
              "      <th>75%</th>\n",
              "      <td>77.050</td>\n",
              "      <td>105.890</td>\n",
              "    </tr>\n",
              "    <tr>\n",
              "      <th>max</th>\n",
              "      <td>25691.160</td>\n",
              "      <td>2125.870</td>\n",
              "    </tr>\n",
              "  </tbody>\n",
              "</table>\n",
              "</div>"
            ],
            "text/plain": [
              "       Legitimate  Fraudulent\n",
              "count  284315.000     492.000\n",
              "mean       88.291     122.211\n",
              "std       250.105     256.683\n",
              "min         0.000       0.000\n",
              "25%         5.650       1.000\n",
              "50%        22.000       9.250\n",
              "75%        77.050     105.890\n",
              "max     25691.160    2125.870"
            ]
          },
          "metadata": {
            "tags": []
          },
          "execution_count": 32
        }
      ]
    },
    {
      "cell_type": "markdown",
      "metadata": {
        "id": "etLPyLUQV5Lz"
      },
      "source": [
        "The top 5 most frequent legitimate transactions."
      ],
      "id": "etLPyLUQV5Lz"
    },
    {
      "cell_type": "code",
      "metadata": {
        "id": "c5129682",
        "outputId": "5ae8ef11-8624-46f9-9df9-78d0256bca1d"
      },
      "source": [
        "(dataDF.loc[dataDF[\"Class\"] == 0][\"Amount\"].value_counts(normalize=True)*100).head()"
      ],
      "id": "c5129682",
      "execution_count": null,
      "outputs": [
        {
          "output_type": "execute_result",
          "data": {
            "text/plain": [
              "1.000    4.775\n",
              "1.980    2.126\n",
              "0.890    1.714\n",
              "9.990    1.669\n",
              "15.000   1.154\n",
              "Name: Amount, dtype: float64"
            ]
          },
          "metadata": {
            "tags": []
          },
          "execution_count": 33
        }
      ]
    },
    {
      "cell_type": "markdown",
      "metadata": {
        "id": "ov6pJLmvWEdL"
      },
      "source": [
        "The top 5 fraudulent transactions."
      ],
      "id": "ov6pJLmvWEdL"
    },
    {
      "cell_type": "code",
      "metadata": {
        "id": "e9508e60",
        "outputId": "209562b0-8cf6-401f-b0fd-5c5c2588ffa6"
      },
      "source": [
        "(dataDF.loc[dataDF[\"Class\"] == 1][\"Amount\"].value_counts(normalize=True)*100).head()"
      ],
      "id": "e9508e60",
      "execution_count": null,
      "outputs": [
        {
          "output_type": "execute_result",
          "data": {
            "text/plain": [
              "1.000    22.967\n",
              "0.000     5.488\n",
              "99.990    5.488\n",
              "0.760     3.455\n",
              "0.770     2.033\n",
              "Name: Amount, dtype: float64"
            ]
          },
          "metadata": {
            "tags": []
          },
          "execution_count": 34
        }
      ]
    },
    {
      "cell_type": "markdown",
      "metadata": {
        "id": "7ufaK6b5WHxW"
      },
      "source": [
        "We see that nearly 23% of all fraudulent transactions amount to 1.0, where the percentage for the same transaction amount in the legitimate set is closer to 5%. We also see a large number of 0-value transactions, which is probably the result of a cardholder details verification transactions."
      ],
      "id": "7ufaK6b5WHxW"
    }
  ]
}