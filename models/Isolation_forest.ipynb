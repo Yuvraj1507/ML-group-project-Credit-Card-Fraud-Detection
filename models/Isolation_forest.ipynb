{
  "nbformat": 4,
  "nbformat_minor": 0,
  "metadata": {
    "colab": {
      "name": "Credit Card - isolation forest.ipynb",
      "provenance": []
    },
    "kernelspec": {
      "name": "python3",
      "display_name": "Python 3"
    },
    "language_info": {
      "name": "python"
    },
    "accelerator": "GPU"
  },
  "cells": [
    {
      "cell_type": "code",
      "metadata": {
        "colab": {
          "base_uri": "https://localhost:8080/"
        },
        "id": "Tn9-VH0smdew",
        "outputId": "4e76cff4-5979-451b-9656-8fe2625785b2"
      },
      "source": [
        "import pandas as pd\n",
        "from sklearn.model_selection import train_test_split\n",
        "\n",
        "from sklearn.ensemble import IsolationForest\n",
        "from sklearn.metrics import roc_curve\n",
        "from sklearn.metrics import auc\n",
        "import matplotlib.pyplot as plt\n",
        " \n",
        "file_link = \"/content/drive/MyDrive/Colab Notebooks/creditcard.csv\"\n",
        "input_data = pd.read_csv(file_link, sep=\",\")\n",
        "print(input_data.head())"
      ],
      "execution_count": 3,
      "outputs": [
        {
          "output_type": "stream",
          "text": [
            "   Time        V1        V2        V3  ...       V27       V28  Amount  Class\n",
            "0   0.0 -1.359807 -0.072781  2.536347  ...  0.133558 -0.021053  149.62      0\n",
            "1   0.0  1.191857  0.266151  0.166480  ... -0.008983  0.014724    2.69      0\n",
            "2   1.0 -1.358354 -1.340163  1.773209  ... -0.055353 -0.059752  378.66      0\n",
            "3   1.0 -0.966272 -0.185226  1.792993  ...  0.062723  0.061458  123.50      0\n",
            "4   2.0 -1.158233  0.877737  1.548718  ...  0.219422  0.215153   69.99      0\n",
            "\n",
            "[5 rows x 31 columns]\n"
          ],
          "name": "stdout"
        }
      ]
    },
    {
      "cell_type": "code",
      "metadata": {
        "id": "x_X8t-XRMao2"
      },
      "source": [
        "y = input_data['Class']\n",
        "X = input_data.drop('Class', axis=1)\n",
        "\n",
        "X_train, X_val, y_train, y_val = train_test_split(X, y, train_size=0.7, test_size=0.3, random_state=0)"
      ],
      "execution_count": 4,
      "outputs": []
    },
    {
      "cell_type": "code",
      "metadata": {
        "id": "1EUnu0XXT-P6",
        "colab": {
          "base_uri": "https://localhost:8080/",
          "height": 295
        },
        "outputId": "7f31ca74-ddd4-4d5e-984a-abb6831ea6f2"
      },
      "source": [
        "from sklearn.ensemble import IsolationForest\n",
        "from sklearn.metrics import roc_curve\n",
        "from sklearn.metrics import auc\n",
        "import matplotlib.pyplot as plt\n",
        "\n",
        "#create iforest model\n",
        "iforest = IsolationForest()\n",
        "#fit to data\n",
        "iforest.fit(X_train)\n",
        "#generate class probabilities\n",
        "y_pred_iforest = - iforest.decision_function(X_val)\n",
        "\n",
        "# print(y_pred_iforest)\n",
        "fpr_rf, tpr_rf, thresholds_rf = roc_curve(y_val, y_pred_iforest)\n",
        "auc_rf = auc(fpr_rf, tpr_rf)\n",
        "plt.plot(100*fpr_rf, 100*tpr_rf, label= 'Isolation Forest (area = {:.3f})'.format(auc_rf), linewidth=2, color = 'red')\n",
        "plt.xlabel('False positives [%]')\n",
        "plt.ylabel('True positives [%]')\n",
        "plt.xlim([0,30])\n",
        "plt.ylim([60,100])\n",
        "plt.grid(True)\n",
        "ax = plt.gca()\n",
        "ax.set_aspect('equal')\n",
        "plt.title('Isolation Forest Model Performance')\n",
        "plt.legend(loc='best')\n",
        "plt.show()"
      ],
      "execution_count": 6,
      "outputs": [
        {
          "output_type": "display_data",
          "data": {
            "image/png": "[encoded data removed]",
            "text/plain": [
              "<Figure size 432x288 with 1 Axes>"
            ]
          },
          "metadata": {
            "tags": [],
            "needs_background": "light"
          }
        }
      ]
    },
    {
      "cell_type": "code",
      "metadata": {
        "colab": {
          "base_uri": "https://localhost:8080/"
        },
        "id": "UG6GnjJyF1RZ",
        "outputId": "03490cf4-b016-40c9-e208-eb4a212e9990"
      },
      "source": [
        "from google.colab import drive\n",
        "drive.mount('/content/drive')"
      ],
      "execution_count": 2,
      "outputs": [
        {
          "output_type": "stream",
          "text": [
            "Mounted at /content/drive\n"
          ],
          "name": "stdout"
        }
      ]
    },
    {
      "cell_type": "code",
      "metadata": {
        "id": "LUaiDLh6N-4r"
      },
      "source": [
        ""
      ],
      "execution_count": null,
      "outputs": []
    }
  ]
}